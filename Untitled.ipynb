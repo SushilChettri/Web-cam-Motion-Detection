{
 "cells": [
  {
   "cell_type": "code",
   "execution_count": 17,
   "metadata": {},
   "outputs": [
    {
     "name": "stdout",
     "output_type": "stream",
     "text": [
      "[datetime.datetime(2020, 8, 5, 21, 27, 27, 121037), datetime.datetime(2020, 8, 5, 21, 27, 27, 249038), datetime.datetime(2020, 8, 5, 21, 27, 29, 505036), datetime.datetime(2020, 8, 5, 21, 27, 29, 617036), datetime.datetime(2020, 8, 5, 21, 27, 30, 241035), datetime.datetime(2020, 8, 5, 21, 27, 34, 609033), datetime.datetime(2020, 8, 5, 21, 27, 35, 233032), datetime.datetime(2020, 8, 5, 21, 27, 36, 121039), datetime.datetime(2020, 8, 5, 21, 27, 38, 353031), datetime.datetime(2020, 8, 5, 21, 27, 38, 481031), datetime.datetime(2020, 8, 5, 21, 27, 39, 105030), datetime.datetime(2020, 8, 5, 21, 27, 39, 361031)]\n"
     ]
    }
   ],
   "source": [
    "import cv2\n",
    "from datetime import datetime\n",
    "import pandas\n",
    "from bokeh.plotting import figure\n",
    "from bokeh.io import output_file, show\n",
    " \n",
    "first_frame = None\n",
    "status_list = [None, None]\n",
    "time_stamp = []\n",
    " \n",
    "video = cv2.VideoCapture(0)\n",
    " \n",
    "while True:\n",
    "    check, frame= video.read()\n",
    "    status = 0\n",
    "    gray_frame = cv2.cvtColor(frame, cv2.COLOR_BGR2GRAY)\n",
    "    gaussian_frame = cv2.GaussianBlur(gray_frame, (21,21), 0)\n",
    " \n",
    "    if first_frame is None:\n",
    "        first_frame = gaussian_frame\n",
    "        continue\n",
    " \n",
    "    delta_frame = cv2.absdiff(first_frame, gaussian_frame)\n",
    " \n",
    "    threshold_delta_frame = cv2.threshold(delta_frame, 30, 255, cv2.THRESH_BINARY)[1]\n",
    " \n",
    "    threshold_delta_frame_smooth = cv2.dilate(threshold_delta_frame, None, iterations=2)\n",
    "    \n",
    "    #contour\n",
    "    (cnts,_) = cv2.findContours(threshold_delta_frame_smooth.copy(), cv2.RETR_EXTERNAL, cv2.CHAIN_APPROX_SIMPLE)\n",
    " \n",
    "    for cont in cnts:\n",
    "        if cv2.contourArea(cont) < 10000:\n",
    "            continue\n",
    "        status= 1\n",
    "        (x, y, w, h)=cv2.boundingRect(cont)\n",
    "        cv2.rectangle(frame, (x,y), (x+w, y+h), (0,255,0), 3)\n",
    " \n",
    "    cv2.imshow(\"threshold_delta_frame_smooth\", threshold_delta_frame_smooth)\n",
    "    cv2.imshow(\"main_frame\", frame)\n",
    "    key = cv2.waitKey(1)\n",
    "    status_list.append(status)\n",
    "    \n",
    "    if status_list[-1]==1 and status_list[-2]==0:\n",
    "        time_stamp.append(datetime.now())\n",
    "    if status_list[-1]==0 and status_list[-2]==1:\n",
    "        time_stamp.append(datetime.now())\n",
    "    if key == ord('q'):\n",
    "        if status == 1:\n",
    "            time_stamp.append(datetime.now())   \n",
    "        break\n",
    "print(time_stamp) \n",
    "df = pandas.DataFrame(columns=['start', 'end'])\n",
    "for i in range( 0, len(time_stamp), 2):\n",
    "    df=df.append({'start': time_stamp[i], 'end': time_stamp[i+1]} , ignore_index=True)\n",
    " \n",
    "df.to_csv('time_stamp.csv')   \n",
    " \n",
    "video.release()\n",
    "cv2.destroyAllWindows()\n",
    "d1= pandas.read_csv(\"time_stamp.csv\", parse_dates = ['start', 'end'] )\n",
    " \n",
    "output_file(\"motions.html\")\n",
    " \n",
    "p = figure(width=300, height=300, x_axis_type = \"datetime\")\n",
    "p.quad(top=10, bottom=0, left=d1[\"start\"], right=d1[\"end\"], color=\"green\")\n",
    " \n",
    "show(p)"
   ]
  }
 ],
 "metadata": {
  "kernelspec": {
   "display_name": "Python 3",
   "language": "python",
   "name": "python3"
  },
  "language_info": {
   "codemirror_mode": {
    "name": "ipython",
    "version": 3
   },
   "file_extension": ".py",
   "mimetype": "text/x-python",
   "name": "python",
   "nbconvert_exporter": "python",
   "pygments_lexer": "ipython3",
   "version": "3.7.4"
  }
 },
 "nbformat": 4,
 "nbformat_minor": 4
}
